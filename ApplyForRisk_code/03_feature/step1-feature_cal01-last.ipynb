{
 "cells": [
  {
   "cell_type": "markdown",
   "metadata": {},
   "source": [
    "# CAL01原始数据特征提取\n",
    "\n",
    "## 1、原始数据清理\n",
    "\n",
    "#### 时间清理\n",
    "\n",
    "## 2、特征提取\n",
    "\n",
    "#### 原始数据时间筛选\n",
    "\n",
    "#### 特征提取统计计算 - 改名"
   ]
  },
  {
   "cell_type": "code",
   "execution_count": 1,
   "metadata": {
    "collapsed": true
   },
   "outputs": [],
   "source": [
    "import pandas as pd\n",
    "import numpy as np\n",
    "import json\n",
    "import seaborn as sns\n",
    "import scipy.stats as st\n",
    "from datetime import datetime,date,timedelta\n",
    "import time\n",
    "import collections"
   ]
  },
  {
   "cell_type": "code",
   "execution_count": 2,
   "metadata": {
    "collapsed": true
   },
   "outputs": [],
   "source": [
    "### 定义的是核心按钮\n",
    "\n",
    "jk_appid=['jkwx', 'jkand', 'jkand2', 'jkandroid', 'jkios', 'yzand1', 'jkiosspeed', 'jkiossolar','jkioslunar',\n",
    "         'jkmjand_1','jkmjios_1','jkiosxjjsd','jkiosjqb','jkiosxysjd','jkiosjqd','jkiosxejsd','jkiossjdjk',\n",
    "         'jkiosxjjk','jkiospphd','jkiosjyq','jkiosxedk','jkandjqb','jkandxedk','jkandpphd','jkori','jkoriand2','jkoriios']\n",
    "jk_appid_and = [ 'jkand', 'jkand2', 'jkandroid','yzand1','jkmjand_1','jkandjqb','jkandxedk','jkandpphd','jkoriand2']\n",
    "jk_appid_ios = [ 'jkios','jkiosspeed', 'jkiossolar','jkioslunar','jkmjios_1','jkiosxjjsd','jkiosjqb','jkiosxysjd','jkiosjqd','jkiosxejsd'\n",
    "                ,'jkiossjdjk','jkiosxjjk','jkiospphd','jkiosjyq','jkiosxedk','jkoriios']"
   ]
  },
  {
   "cell_type": "code",
   "execution_count": 3,
   "metadata": {
    "collapsed": true,
    "scrolled": true
   },
   "outputs": [],
   "source": [
    "cal01 = pd.read_csv('./data_mid/20171122_data_cal01.201706_201708.csv',encoding=\"utf-8\")"
   ]
  },
  {
   "cell_type": "code",
   "execution_count": 4,
   "metadata": {
    "scrolled": true
   },
   "outputs": [
    {
     "name": "stdout",
     "output_type": "stream",
     "text": [
      "338\n"
     ]
    }
   ],
   "source": [
    "print(len(cal01.ugid.unique()))"
   ]
  },
  {
   "cell_type": "code",
   "execution_count": 5,
   "metadata": {},
   "outputs": [
    {
     "data": {
      "text/plain": [
       "Index(['ugid', 'zuid', 'appid', 'mid', 'utime', 'ctime', 'count', 'date',\n",
       "       'types', 'duration', 'name', 'number', 'remote_addr'],\n",
       "      dtype='object')"
      ]
     },
     "execution_count": 5,
     "metadata": {},
     "output_type": "execute_result"
    }
   ],
   "source": [
    "cal01.columns"
   ]
  },
  {
   "cell_type": "code",
   "execution_count": 6,
   "metadata": {
    "collapsed": true
   },
   "outputs": [],
   "source": [
    "cal01 = cal01[['ugid', 'zuid', 'appid', 'mid', 'utime', 'ctime', 'count', 'date',\n",
    "       'types', 'duration', 'name', 'number' ,'remote_addr']]"
   ]
  },
  {
   "cell_type": "code",
   "execution_count": 7,
   "metadata": {
    "collapsed": true
   },
   "outputs": [],
   "source": [
    "# 提取申请时间\n",
    "label = pd.read_csv('./data_raw/APP_5K_20171120_ADD_UGID.csv')\n",
    "# label = label.drop(['month','user_gid','last_decision_dt','SamplingWeight'],axis=1).rename(columns={'create_time':'last_decision_tm'})\n",
    "label = label[['ugid','create_time']].rename(columns={'create_time':'last_decision_tm'})"
   ]
  },
  {
   "cell_type": "code",
   "execution_count": 8,
   "metadata": {
    "collapsed": true
   },
   "outputs": [],
   "source": [
    "label['last_decision_tm'] = label['last_decision_tm'].apply(lambda x :str(x).split('.')[0])"
   ]
  },
  {
   "cell_type": "code",
   "execution_count": 9,
   "metadata": {
    "collapsed": true
   },
   "outputs": [],
   "source": [
    "feature01 = label[['ugid']].drop_duplicates()"
   ]
  },
  {
   "cell_type": "code",
   "execution_count": 10,
   "metadata": {
    "scrolled": true
   },
   "outputs": [
    {
     "name": "stdout",
     "output_type": "stream",
     "text": [
      "CPU times: user 164 ms, sys: 4 ms, total: 168 ms\n",
      "Wall time: 167 ms\n"
     ]
    }
   ],
   "source": [
    "%%time\n",
    "\n",
    "# 转换申请时间格式\n",
    "\n",
    "label['last_decision_tm'] = label['last_decision_tm'].replace('DEC', '-12-',regex=True).\\\n",
    "replace('NOV', '-11-',regex=True).\\\n",
    "replace('OCT', '-10-',regex=True).\\\n",
    "replace('SEP', '-09-',regex=True).\\\n",
    "replace('AUG', '-08-',regex=True).\\\n",
    "replace('JAN', '-01-',regex=True).\\\n",
    "replace('MAY', '-05-',regex=True).\\\n",
    "replace('FEB', '-02-',regex=True).\\\n",
    "replace('MAR', '-03-',regex=True).\\\n",
    "replace('APR', '-04-',regex=True).\\\n",
    "replace('JUN', '-06-',regex=True)\n",
    "\n",
    "label['last_decision_tm'] = label['last_decision_tm'].apply(lambda x :datetime.strptime(x, '%d-%m-%Y:%H:%M:%S'))\n",
    "label['last_decision_tm'] = pd.to_datetime(label['last_decision_tm'])"
   ]
  },
  {
   "cell_type": "code",
   "execution_count": 11,
   "metadata": {
    "collapsed": true
   },
   "outputs": [],
   "source": [
    "cal01=pd.merge(label,cal01,on='ugid',how='left')"
   ]
  },
  {
   "cell_type": "code",
   "execution_count": 12,
   "metadata": {
    "collapsed": true
   },
   "outputs": [],
   "source": [
    "#%%time\n",
    "\n",
    "# 异常值处理\n",
    "cal01['ctime'] = cal01['ctime'].replace('null','-1').astype('float')\n",
    "cal01['ctime'] = cal01['ctime'].replace(np.nan,'-1').astype('float')\n",
    "cal01['ctime'] = cal01['ctime'].replace(np.inf,'-1').astype('float')\n",
    "cal01['date'] = cal01['date'].replace('null','-1').astype('float')\n",
    "cal01['date'] = cal01['date'].replace(np.nan,'-1').astype('float')\n",
    "cal01['date'] = cal01['date'].replace(np.inf,'-1').astype('float')"
   ]
  },
  {
   "cell_type": "code",
   "execution_count": 13,
   "metadata": {
    "scrolled": true
   },
   "outputs": [
    {
     "data": {
      "text/plain": [
       "(321107, 14)"
      ]
     },
     "execution_count": 13,
     "metadata": {},
     "output_type": "execute_result"
    }
   ],
   "source": [
    "# 清理时间 & 时间筛选 & appid筛选\n",
    "cal01=cal01[(cal01.date==cal01.date) & (cal01['date']!=-1)]\n",
    "cal01=cal01[((cal01.ctime==cal01.ctime) & (cal01['date']!=-1))]\n",
    "cal01=cal01[((cal01.ugid==cal01.ugid) & (cal01['ugid']!=-1))]\n",
    "cal01=cal01[cal01.appid.isin(jk_appid)]\n",
    "cal01.shape"
   ]
  },
  {
   "cell_type": "code",
   "execution_count": 14,
   "metadata": {
    "collapsed": true
   },
   "outputs": [],
   "source": [
    "cal01['ctime'] = cal01.ctime.apply(lambda x: x*1000 if x<1000000000 else x)"
   ]
  },
  {
   "cell_type": "code",
   "execution_count": 15,
   "metadata": {
    "collapsed": true
   },
   "outputs": [],
   "source": [
    "#转换时间格式\n",
    "#%%time\n",
    "\n",
    "converDate=lambda x:datetime.fromtimestamp(int(x)).strftime('%Y-%m-%d %H:%M:%S')\n",
    "cal01['active_day']=cal01.date.apply(lambda x:datetime.fromtimestamp(int(x)).strftime('%Y-%m-%d'))\n",
    "cal01['date']=cal01.date.apply(converDate)\n",
    "cal01['ctime']=cal01.ctime.apply(converDate)"
   ]
  },
  {
   "cell_type": "code",
   "execution_count": 16,
   "metadata": {
    "collapsed": true
   },
   "outputs": [],
   "source": [
    "cal01['last_decision_tm'] = cal01.last_decision_tm.apply(lambda x:str(x).split('.')[0])"
   ]
  },
  {
   "cell_type": "code",
   "execution_count": 17,
   "metadata": {
    "collapsed": true
   },
   "outputs": [],
   "source": [
    "total_num_cal = cal01.groupby('ugid').duration.count().reset_index()"
   ]
  },
  {
   "cell_type": "code",
   "execution_count": 18,
   "metadata": {
    "collapsed": true
   },
   "outputs": [],
   "source": [
    "cal01['date'] = cal01.date.apply(lambda x:datetime.strptime(x,'%Y-%m-%d %H:%M:%S'))"
   ]
  },
  {
   "cell_type": "code",
   "execution_count": 19,
   "metadata": {
    "collapsed": true
   },
   "outputs": [],
   "source": [
    "cal01['ctime'] = cal01.ctime.apply(lambda x:datetime.strptime(x,'%Y-%m-%d %H:%M:%S'))"
   ]
  },
  {
   "cell_type": "code",
   "execution_count": 20,
   "metadata": {
    "collapsed": true
   },
   "outputs": [],
   "source": [
    "cal01['active_day'] = cal01.active_day.apply(lambda x:datetime.strptime(x,'%Y-%m-%d'))"
   ]
  },
  {
   "cell_type": "code",
   "execution_count": 21,
   "metadata": {
    "collapsed": true
   },
   "outputs": [],
   "source": [
    "cal01['last_decision_tm'] = cal01.last_decision_tm.apply(lambda x:datetime.strptime(x,'%Y-%m-%d %H:%M:%S'))"
   ]
  },
  {
   "cell_type": "code",
   "execution_count": 22,
   "metadata": {},
   "outputs": [
    {
     "data": {
      "text/plain": [
       "(245, 2)"
      ]
     },
     "execution_count": 22,
     "metadata": {},
     "output_type": "execute_result"
    }
   ],
   "source": [
    "\n",
    "feature01 = cal01[(cal01.date + timedelta(days=60) > cal01.last_decision_tm) &  (cal01.date<cal01.last_decision_tm) ].reset_index(drop=True)\n",
    "feature01 = feature01[['ugid']].drop_duplicates().reset_index()\n",
    "feature01.shape"
   ]
  },
  {
   "cell_type": "code",
   "execution_count": 23,
   "metadata": {
    "collapsed": true
   },
   "outputs": [],
   "source": [
    "def total_num_calls(feature01,df,days):\n",
    "    '''\n",
    "    输入一个dataframe，计算每个用户在统计时间内的通话总次数，包括通话总次数，通话总次数-主叫，通话总次数-被叫,通话总次数-主叫占比，通话总次数-被叫占比\n",
    "    '''\n",
    "    #df = df[(df.date+ timedelta(period) > cal01.last_decision_tm) &  (cal01.date<cal01.last_decision_tm) ].reset_index(drop=True)\n",
    "    \n",
    "    callcnt_agg = df.groupby('ugid').duration.count().reset_index()\n",
    "    callcnt_agg_out = df[df.types == 2].groupby('ugid').duration.count().reset_index()\n",
    "    callcnt_agg_in = df[df.types == 1].groupby('ugid').duration.count().reset_index()\n",
    "    callcnt_agg_other = df[df.types == 3].groupby('ugid').duration.count().reset_index()\n",
    "    if days == 30:\n",
    "        callcnt_agg.columns = ['ugid', 'last1m_callcnt_agg']\n",
    "        callcnt_agg_out.columns = ['ugid', 'last1m_callcnt_agg_out']\n",
    "        callcnt_agg_in.columns = ['ugid', 'last1m_callcnt_agg_in'] \n",
    "        callcnt_agg_other.columns = ['ugid', 'last1m_callcnt_agg_other']\n",
    "    elif days == 60:\n",
    "        callcnt_agg.columns = ['ugid', 'last2m_callcnt_agg']\n",
    "        callcnt_agg_out.columns = ['ugid', 'last2m_callcnt_agg_out']\n",
    "        callcnt_agg_in.columns = ['ugid', 'last2m_callcnt_agg_in']\n",
    "        callcnt_agg_other.columns = ['ugid', 'last2m_callcnt_agg_other']\n",
    "    \n",
    "    feature01 = pd.merge(feature01, callcnt_agg, how = 'left', on = 'ugid')\n",
    "    feature01 = pd.merge(feature01, callcnt_agg_out, how = 'left', on = 'ugid')\n",
    "    feature01 = pd.merge(feature01, callcnt_agg_in, how = 'left', on = 'ugid')\n",
    "    feature01 = pd.merge(feature01, callcnt_agg_other, how = 'left', on = 'ugid')\n",
    "    return(feature01)"
   ]
  },
  {
   "cell_type": "code",
   "execution_count": 24,
   "metadata": {
    "collapsed": true
   },
   "outputs": [],
   "source": [
    "def uniq_phone_number(feature01,df,days):\n",
    "    '''\n",
    "    输入一个dataframe，计算每个用户在统计时间内的去重号码数，包括主叫，被叫\n",
    "    '''\n",
    "    tmp = df[['ugid', 'number','types']].drop_duplicates().reset_index()\n",
    "    clnnum_cnt = tmp.groupby('ugid').number.count().reset_index()\n",
    "    clnnum_cnt_out = tmp[tmp.types == 2].groupby('ugid').number.count().reset_index()\n",
    "    clnnum_cnt_in = tmp[tmp.types == 1].groupby('ugid').number.count().reset_index()\n",
    "    clnnum_cnt_other = tmp[tmp.types == 3].groupby('ugid').number.count().reset_index()\n",
    "    if days == 30:\n",
    "        clnnum_cnt.columns = ['ugid', 'last1m_clnnum_cnt']\n",
    "        clnnum_cnt_out.columns = ['ugid', 'last1m_clnnum_cnt_out']\n",
    "        clnnum_cnt_in.columns = ['ugid', 'last1m_clnnum_cnt_in']\n",
    "        clnnum_cnt_other.columns = ['ugid', 'last1m_clnnum_cnt_other']\n",
    "    elif days == 60:\n",
    "        clnnum_cnt.columns = ['ugid', 'last2m_clnnum_cnt']\n",
    "        clnnum_cnt_out.columns = ['ugid', 'last2m_clnnum_cnt_out']\n",
    "        clnnum_cnt_in.columns = ['ugid', 'last2m_clnnum_cnt_in']\n",
    "        clnnum_cnt_other.columns = ['ugid', 'last2m_clnnum_cnt_other']\n",
    "    \n",
    "    feature01 = pd.merge(feature01, clnnum_cnt, how = 'left', on = 'ugid')\n",
    "    feature01 = pd.merge(feature01, clnnum_cnt_out, how = 'left', on = 'ugid')\n",
    "    feature01 = pd.merge(feature01, clnnum_cnt_in, how = 'left', on = 'ugid')\n",
    "    feature01 = pd.merge(feature01, clnnum_cnt_other, how = 'left', on = 'ugid')\n",
    "    return(feature01)"
   ]
  },
  {
   "cell_type": "code",
   "execution_count": 25,
   "metadata": {
    "collapsed": true
   },
   "outputs": [],
   "source": [
    "def total_time_call(feature01,df,days):\n",
    "    '''\n",
    "    输入一个dataframe，计算每个用户在统计时间内的通话总时长，包括通话总时长-主叫，通话总时长-被叫\n",
    "    '''\n",
    "    calltime_agg = df.groupby('ugid').duration.sum().reset_index()\n",
    "    calltime_agg_out = df[df.types == 2].groupby('ugid').duration.sum().reset_index()\n",
    "    calltime_agg_in = df[df.types == 1].groupby('ugid').duration.sum().reset_index()\n",
    "    calltime_agg_other = df[df.types == 3].groupby('ugid').duration.sum().reset_index()\n",
    "    if days == 30:\n",
    "        calltime_agg.columns = ['ugid', 'last1m_calltime_agg']\n",
    "        calltime_agg_out.columns = ['ugid', 'last1m_calltime_agg_out']\n",
    "        calltime_agg_in.columns = ['ugid', 'last1m_calltime_agg_in']\n",
    "        calltime_agg_other.columns = ['ugid', 'last1m_calltime_agg_other']\n",
    "    elif days == 60:\n",
    "        calltime_agg.columns = ['ugid', 'last2m_calltime_agg']\n",
    "        calltime_agg_out.columns = ['ugid', 'last2m_calltime_agg_out']\n",
    "        calltime_agg_in.columns = ['ugid', 'last2m_calltime_agg_in']\n",
    "        calltime_agg_other.columns = ['ugid', 'last2m_calltime_agg_other']\n",
    "\n",
    "    feature01 = pd.merge(feature01, calltime_agg, how = 'left', on = 'ugid')\n",
    "    feature01 = pd.merge(feature01, calltime_agg_out, how = 'left', on = 'ugid')\n",
    "    feature01 = pd.merge(feature01, calltime_agg_in, how = 'left', on = 'ugid')\n",
    "    feature01 = pd.merge(feature01, calltime_agg_other, how = 'left', on = 'ugid')\n",
    "    return(feature01)"
   ]
  },
  {
   "cell_type": "code",
   "execution_count": 26,
   "metadata": {
    "collapsed": true
   },
   "outputs": [],
   "source": [
    "def sort_data(df):\n",
    "    '''\n",
    "    对输入的数据的每一列都按升序排列\n",
    "    '''\n",
    "    data = df.reset_index()\n",
    "    data = data[['ugid','date_first','date_last']]\n",
    "    data_1 = data[['ugid','date_first']]\n",
    "    data_2 = data[['ugid','date_last']]\n",
    "    data_1 = data_1.sort_values(['date_first'], ascending=True)\n",
    "    data_1 = data_1.reset_index()\n",
    "    data_1 = data_1[['ugid','date_first']]\n",
    "    data_2 = data_2.sort_values(['date_last'], ascending=True)\n",
    "    data_2 = data_2.reset_index()\n",
    "    data_2 = data_2[['ugid','date_last']]\n",
    "    data_3 = pd.concat([data_1,data_2],axis = 1)\n",
    "    data_0 = data_3[data_3['date_first'] < data_3['date_last']]\n",
    "    return(data_0.shape[0])"
   ]
  },
  {
   "cell_type": "code",
   "execution_count": 27,
   "metadata": {
    "collapsed": true
   },
   "outputs": [],
   "source": [
    "def four_consecutive_days_no_call_pre(df,days):\n",
    "    '''\n",
    "    输入一个某个统计时间段（30天或60天）包含ugid和date的数据集，在date列上分别增加统计时间的开始和截至时间，\n",
    "    生成新的两列数据（这两列数据横向对比即可标记是否连续四天未通话）。\n",
    "    其中date_first列加上了4天，与date_last列比较。date_first小于date_last即为连续四天无通话记录。\n",
    "    '''\n",
    "    data = df[['ugid','last_decision_tm']].drop_duplicates().reset_index()\n",
    "    data['date_last'] = data.last_decision_tm.apply(lambda x:str(x).split('.')[0])\n",
    "    data = data[['ugid','date_last']]\n",
    "    data['date_last'] = data.date_last.apply(lambda x:datetime.strptime(str(x),'%Y-%m-%d %H:%M:%S'))\n",
    "    data['date_first'] = data.date_last.apply(lambda x:x - timedelta(days))\n",
    "    data = data[['ugid','date_first','date_last']]\n",
    "    \n",
    "    \n",
    "    df_ = df[['ugid','date']].reset_index()\n",
    "    df_ = df_[['ugid','date']]\n",
    "    df_.columns = ['ugid','date_first']\n",
    "    df_['date_last'] = df_['date_first']\n",
    "    \n",
    "    df_ = df_.append(data)\n",
    "    df_['date_first'] = df_.date_first.apply(lambda x:x+timedelta(days=4))\n",
    "    df_ = df_.reset_index()\n",
    "    df_ = df_[['ugid','date_first','date_last']]\n",
    "    \n",
    "    df_4 = df_.groupby('ugid').apply(lambda row:sort_data(row))\n",
    "    #df_4 = df_4[df_4['date_first'] + timedelta(days=4) < df_4['date_last']]\n",
    "    \n",
    "    return(df_4)"
   ]
  },
  {
   "cell_type": "code",
   "execution_count": 28,
   "metadata": {
    "collapsed": true
   },
   "outputs": [],
   "source": [
    "def four_consecutive_days_no_call(feature01,df,days):\n",
    "    if days == 30:\n",
    "        data = four_consecutive_days_no_call_pre(df,days=30)\n",
    "        data_pd = pd.DataFrame(data)\n",
    "        data_pd = data_pd.reset_index()\n",
    "        data_pd.columns = ['ugid','last1m_callcnt_void4cnt']\n",
    "        feature01 = pd.merge(feature01,data_pd,how = 'left',on = 'ugid')\n",
    "    elif days == 60:\n",
    "        data = four_consecutive_days_no_call_pre(df,days=60)\n",
    "        data_pd = pd.DataFrame(data)\n",
    "        data_pd = data_pd.reset_index()\n",
    "        data_pd.columns = ['ugid','last2m_callcnt_void4cnt']\n",
    "        feature01 = pd.merge(feature01,data_pd,how = 'left',on = 'ugid')\n",
    "    return(feature01)"
   ]
  },
  {
   "cell_type": "code",
   "execution_count": 31,
   "metadata": {
    "collapsed": true
   },
   "outputs": [],
   "source": [
    "def dayBaseProportion(feature01,df,days):\n",
    "    '''\n",
    "    输入一个dataframe,生成所有daybase占比/平均值统计特征\n",
    "    '''\n",
    "    if days == 30:\n",
    "        feature01['last1m_callcnt_rate_out'] = feature01['last1m_callcnt_agg_out'] / feature01['last1m_callcnt_agg']  #近1个月的主叫次数占比\n",
    "        feature01['last1m_callcnt_rate_out'] = feature01['last1m_callcnt_rate_out'].astype('float')\n",
    "        feature01['last1m_callcnt_rate_in'] = feature01['last1m_callcnt_agg_in'] / feature01['last1m_callcnt_agg']\n",
    "        feature01['last1m_callcnt_rate_in'] = feature01['last1m_callcnt_rate_in'].astype('float')\n",
    "        feature01['last1m_callcnt_rate_other'] = feature01['last1m_callcnt_agg_other'] / feature01['last1m_callcnt_agg']\n",
    "        feature01['last1m_callcnt_rate_other'] = feature01['last1m_callcnt_rate_other'].astype('float')\n",
    "    \n",
    "        feature01['last1m_calltime_rate_out'] = feature01['last1m_calltime_agg_out'] / feature01['last1m_calltime_agg']  #近1个月的主叫时长占比\n",
    "        feature01['last1m_calltime_rate_out'] = feature01['last1m_calltime_rate_out'].astype('float')\n",
    "        feature01['last1m_calltime_rate_in'] = feature01['last1m_calltime_agg_in'] / feature01['last1m_calltime_agg']\n",
    "        feature01['last1m_calltime_rate_in'] = feature01['last1m_calltime_rate_in'].astype('float')\n",
    "        feature01['last1m_calltime_rate_other'] = feature01['last1m_calltime_agg_other'] / feature01['last1m_calltime_agg']\n",
    "        feature01['last1m_calltime_rate_other'] = feature01['last1m_calltime_rate_other'].astype('float')\n",
    "    \n",
    "        feature01['last1m_calltime_avg'] = feature01['last1m_calltime_agg']/feature01['last1m_callcnt_agg']  #近1个月的平均通话时长\n",
    "        feature01['last1m_calltime_avg'] = feature01['last1m_calltime_avg'].astype('float')\n",
    "        feature01['last1m_calltime_avg_out'] = feature01['last1m_calltime_agg_out'] / feature01['last1m_callcnt_agg_out']\n",
    "        feature01['last1m_calltime_avg_out'] = feature01['last1m_calltime_avg_out'].astype('float')\n",
    "        feature01['last1m_calltime_avg_in'] = feature01['last1m_calltime_agg_in'] / feature01['last1m_callcnt_agg_in']\n",
    "        feature01['last1m_calltime_avg_in'] = feature01['last1m_calltime_avg_in'].astype('float')\n",
    "        feature01['last1m_calltime_avg_other'] = feature01['last1m_calltime_agg_other'] / feature01['last1m_callcnt_agg_other']\n",
    "        feature01['last1m_calltime_avg_other'] = feature01['last1m_calltime_avg_other'].astype('float')\n",
    "    elif days == 60:\n",
    "        feature01['last2m_callcnt_rate_out'] = feature01['last2m_callcnt_agg_out'] / feature01['last2m_callcnt_agg']  \n",
    "        feature01['last2m_callcnt_rate_out'] = feature01['last2m_callcnt_rate_out'].astype('float')\n",
    "        feature01['last2m_callcnt_rate_in'] = feature01['last2m_callcnt_agg_in'] / feature01['last2m_callcnt_agg']\n",
    "        feature01['last2m_callcnt_rate_in'] = feature01['last2m_callcnt_rate_in'].astype('float')\n",
    "        feature01['last2m_callcnt_rate_other'] = feature01['last2m_callcnt_agg_other'] / feature01['last2m_callcnt_agg']\n",
    "        feature01['last2m_callcnt_rate_other'] = feature01['last2m_callcnt_rate_other'].astype('float')\n",
    "    \n",
    "        feature01['last2m_calltime_rate_out'] = feature01['last2m_calltime_agg_out'] / feature01['last2m_calltime_agg']  \n",
    "        feature01['last2m_calltime_rate_out'] = feature01['last2m_calltime_rate_out'].astype('float')\n",
    "        feature01['last2m_calltime_rate_in'] = feature01['last2m_calltime_agg_in'] / feature01['last2m_calltime_agg']\n",
    "        feature01['last2m_calltime_rate_in'] = feature01['last2m_calltime_rate_in'].astype('float')\n",
    "        feature01['last2m_calltime_rate_other'] = feature01['last2m_calltime_agg_other'] / feature01['last2m_calltime_agg']\n",
    "        feature01['last2m_calltime_rate_other'] = feature01['last2m_calltime_rate_other'].astype('float')\n",
    "    \n",
    "        feature01['last2m_calltime_avg'] = feature01['last2m_calltime_agg'] / feature01['last2m_callcnt_agg']  \n",
    "        feature01['last2m_calltime_avg'] = feature01['last2m_calltime_avg'].astype('float')\n",
    "        feature01['last2m_calltime_avg_out'] = feature01['last2m_calltime_agg_out'] / feature01['last2m_callcnt_agg_out']\n",
    "        feature01['last2m_calltime_avg_out'] = feature01['last2m_calltime_avg_out'].astype('float')\n",
    "        feature01['last2m_calltime_avg_in'] = feature01['last2m_calltime_agg_in'] / feature01['last2m_callcnt_agg_in']\n",
    "        feature01['last2m_calltime_avg_in'] = feature01['last2m_calltime_avg_in'].astype('float')\n",
    "        feature01['last2m_calltime_avg_other'] = feature01['last2m_calltime_agg_other'] / feature01['last2m_callcnt_agg_other']\n",
    "        feature01['last2m_calltime_avg_other'] = feature01['last2m_calltime_avg_other'].astype('float')\n",
    "    return(feature01)\n",
    "        "
   ]
  },
  {
   "cell_type": "code",
   "execution_count": 32,
   "metadata": {
    "collapsed": true
   },
   "outputs": [],
   "source": [
    "def getDayBasefeature(feature01,df,days):\n",
    "    feature01 = total_num_calls(feature01,df,days)    #通话总次数类特征 3*2\n",
    "    feature01 = uniq_phone_number(feature01,df,days)  #去重号码类特征3*2\n",
    "    feature01 = total_time_call(feature01,df,days)    #通话总时长类特征3*2\n",
    "    feature01 = dayBaseProportion(feature01,df,days)  #平均值，占比类特征7*2\n",
    "    feature01 = four_consecutive_days_no_call(feature01,df,days)   #连续四天无通话记录1*2\n",
    "    return(feature01)"
   ]
  },
  {
   "cell_type": "code",
   "execution_count": 33,
   "metadata": {
    "collapsed": true
   },
   "outputs": [],
   "source": [
    "def weekday_active_days(feature01,df,days):\n",
    "    '''\n",
    "    输入一个dataframe，计算每个用户再统计时间内的活跃天数\n",
    "    '''\n",
    "    tmp = df[['ugid', 'active_day']].drop_duplicates()\n",
    "    active_dtotal_wrk = tmp.groupby('ugid').active_day.count().reset_index()\n",
    "    if days == 30:\n",
    "        active_dtotal_wrk.columns = ['ugid', 'last1m_active_dtotal_wrk']      #近一个月活跃的工作日总数\n",
    "    elif days == 60:\n",
    "        active_dtotal_wrk.columns = ['ugid', 'last2m_active_dtotal_wrk']\n",
    "        \n",
    "    feature01 = pd.merge(feature01, active_dtotal_wrk, how = 'left', on = 'ugid')\n",
    "    return(feature01)"
   ]
  },
  {
   "cell_type": "code",
   "execution_count": 34,
   "metadata": {
    "collapsed": true
   },
   "outputs": [],
   "source": [
    "def weekend_active_days(feature01,df,days):\n",
    "    '''\n",
    "    输入一个dataframe，计算每个用户在统计时间内的活跃天数\n",
    "    '''\n",
    "    df = df[['ugid', 'active_day']].drop_duplicates()\n",
    "    active_dtotal_wkd = df.groupby('ugid').active_day.count().reset_index()\n",
    "    if days == 30:\n",
    "        active_dtotal_wkd.columns = ['ugid', 'last1m_active_dtotal_wkd']\n",
    "    elif days == 60:\n",
    "        active_dtotal_wkd.columns = ['ugid', 'last2m_active_dtotal_wkd']\n",
    "        \n",
    "    feature01 = pd.merge(feature01, active_dtotal_wkd, how = 'left', on = 'ugid')\n",
    "    return(feature01)"
   ]
  },
  {
   "cell_type": "code",
   "execution_count": 35,
   "metadata": {
    "collapsed": true
   },
   "outputs": [],
   "source": [
    "def weekdayBaseSDK(feature01,df,days):\n",
    "    '''\n",
    "    输入一个dataframe，生成所有weekBase统计特征，包括通话总时长，通话总次数，去重号码数，通话平均时长\n",
    "    '''\n",
    "    callcnt_agg_wrk = df.groupby('ugid').duration.count().reset_index()     #工作日通话总次数\n",
    "    calltime_agg_wrk = df.groupby('ugid').duration.sum().reset_index()    #工作日通话总时长\n",
    "    tmp = df[['ugid', 'number']].drop_duplicates().reset_index() \n",
    "    clncnt_dtotal_wrk = tmp.groupby('ugid').number.count().reset_index()   #工作日通话去重号码数\n",
    "    if days == 30:\n",
    "        callcnt_agg_wrk.columns = ['ugid', 'last1m_callcnt_agg_wrk']\n",
    "        feature01 = pd.merge(feature01, callcnt_agg_wrk, how = 'left', on = 'ugid')\n",
    "        calltime_agg_wrk.columns = ['ugid', 'last1m_calltime_agg_wrk']\n",
    "        feature01 = pd.merge(feature01, calltime_agg_wrk, how = 'left', on = 'ugid')\n",
    "        clncnt_dtotal_wrk.columns = ['ugid', 'last1m_clncnt_dtotal_wrk']\n",
    "        feature01 = pd.merge(feature01, clncnt_dtotal_wrk, how = 'left', on = 'ugid')\n",
    "        feature01['last1m_calltime_avg_wrk'] = feature01['last1m_calltime_agg_wrk']/feature01['last1m_callcnt_agg_wrk']   #平均通话时长\n",
    "    elif days == 60:\n",
    "        callcnt_agg_wrk.columns = ['ugid', 'last2m_callcnt_agg_wrk']\n",
    "        feature01 = pd.merge(feature01, callcnt_agg_wrk, how = 'left', on = 'ugid')\n",
    "        calltime_agg_wrk.columns = ['ugid', 'last2m_calltime_agg_wrk']\n",
    "        feature01 = pd.merge(feature01, calltime_agg_wrk, how = 'left', on = 'ugid')\n",
    "        clncnt_dtotal_wrk.columns = ['ugid', 'last2m_clncnt_dtotal_wrk']\n",
    "        feature01 = pd.merge(feature01, clncnt_dtotal_wrk, how = 'left', on = 'ugid')\n",
    "        feature01['last2m_calltime_avg_wrk'] = feature01['last2m_calltime_agg_wrk']/feature01['last2m_callcnt_agg_wrk']\n",
    "    return(feature01)\n",
    "        "
   ]
  },
  {
   "cell_type": "code",
   "execution_count": 36,
   "metadata": {
    "collapsed": true
   },
   "outputs": [],
   "source": [
    "def weekendBaseSDK(feature01,df,days):\n",
    "    '''\n",
    "    输入一个dataframe，生成所有weekBase统计特征，包括通话总时长，通话总次数，去重号码数\n",
    "    '''\n",
    "    callcnt_agg_wkd = df.groupby('ugid').duration.count().reset_index()                         #休息日通话总次数\n",
    "    calltime_agg_wkd = df.groupby('ugid').duration.sum().reset_index()                          #休息日通话总时长\n",
    "    tmp = df[['ugid', 'number']].drop_duplicates().reset_index()                         #休息日通话去重号码数\n",
    "    clncnt_dtotal_wkd = tmp.groupby('ugid').number.count().reset_index()\n",
    "    if days == 30:\n",
    "        callcnt_agg_wkd.columns = ['ugid', 'last1m_callcnt_agg_wkd']\n",
    "        feature01 = pd.merge(feature01, callcnt_agg_wkd, how = 'left', on = 'ugid')\n",
    "        calltime_agg_wkd.columns = ['ugid', 'last1m_calltime_agg_wkd']\n",
    "        feature01 = pd.merge(feature01, calltime_agg_wkd, how = 'left', on = 'ugid')\n",
    "        clncnt_dtotal_wkd.columns = ['ugid', 'last1m_clncnt_dtotal_wkd']\n",
    "        feature01 = pd.merge(feature01, clncnt_dtotal_wkd, how = 'left', on = 'ugid')\n",
    "        feature01['last1m_calltime_avg_wkd'] = feature01['last1m_calltime_agg_wkd']/feature01['last1m_callcnt_agg_wkd']\n",
    "    elif days == 60:\n",
    "        callcnt_agg_wkd.columns = ['ugid', 'last2m_callcnt_agg_wkd']\n",
    "        feature01 = pd.merge(feature01, callcnt_agg_wkd, how = 'left', on = 'ugid')\n",
    "        calltime_agg_wkd.columns = ['ugid', 'last2m_calltime_agg_wkd']\n",
    "        feature01 = pd.merge(feature01, calltime_agg_wkd, how = 'left', on = 'ugid')\n",
    "        clncnt_dtotal_wkd.columns = ['ugid', 'last2m_clncnt_dtotal_wkd']\n",
    "        feature01 = pd.merge(feature01, clncnt_dtotal_wkd, how = 'left', on = 'ugid')\n",
    "        feature01['last2m_calltime_avg_wkd'] = feature01['last2m_calltime_agg_wkd']/feature01['last2m_callcnt_agg_wkd']\n",
    "    return(feature01)\n",
    "        "
   ]
  },
  {
   "cell_type": "code",
   "execution_count": 37,
   "metadata": {
    "collapsed": true
   },
   "outputs": [],
   "source": [
    "def getWeekBaseFeature(feature01,df,days):\n",
    "    '''\n",
    "    输入一个dataframe，生成所有weekbase特征，包括活跃天数，通话总时长，通话总次数，平均通话时长，去重号码数\n",
    "    '''\n",
    "    df_weekday = df[df.active_day.apply(datetime.weekday) <= 4].reset_index(drop=True)\n",
    "    df_weekend = df[df.active_day.apply(datetime.weekday) > 4  ].reset_index(drop=True)\n",
    "    \n",
    "    feature01 = weekday_active_days(feature01,df_weekday,days)     #工作日活跃天数  2*1\n",
    "    feature01 = weekend_active_days(feature01,df_weekend,days)      #休息日活跃天数 2*1\n",
    "    feature01 = weekdayBaseSDK(feature01,df_weekday,days)          #工作日          2*4\n",
    "    feature01 = weekendBaseSDK(feature01,df_weekend,days)          #休息日          2*4\n",
    "    return(feature01)"
   ]
  },
  {
   "cell_type": "markdown",
   "metadata": {},
   "source": [
    "# 特征提取入口\n",
    "\n",
    "* 在时间窗口内用全部数据进行计算\n",
    "    * 过去三十天访问注册页面次数（eg）\n",
    "* 在时间窗口内定义不同的时间组别：\n",
    "    * 休息日和工作日\n",
    "        * 过去三十天工作日访问注册页面次数（eg）\n",
    "        * 过去三十天休息日访问注册页面次数（eg）\n",
    "    * 每天的不同时间段\n",
    "        * 过去三十天在凌晨0-4点访问注册页面次数（eg）timePeriod0-5\n",
    "        * 过去三十天在12-16点访问注册页面次数（eg）"
   ]
  },
  {
   "cell_type": "code",
   "execution_count": 38,
   "metadata": {
    "collapsed": true,
    "scrolled": false
   },
   "outputs": [],
   "source": [
    "con01 = pd.read_csv('./data_mid/20171122_data_con01.201706_201708.csv',encoding=\"utf-8\")\n",
    "con01 = con01[['ugid', 'phone']]"
   ]
  },
  {
   "cell_type": "code",
   "execution_count": 39,
   "metadata": {
    "collapsed": true
   },
   "outputs": [],
   "source": [
    "#生成并保存近两个月的用户通话数据\n",
    "df_60=cal01[(cal01.date + timedelta(days=60) > cal01.last_decision_tm) &  (cal01.date<cal01.last_decision_tm) ].reset_index(drop=True)"
   ]
  },
  {
   "cell_type": "code",
   "execution_count": 41,
   "metadata": {
    "collapsed": true
   },
   "outputs": [],
   "source": [
    "df_60.to_csv('df_60.csv', header = True, index=False, encoding=\"utf-8\")"
   ]
  },
  {
   "cell_type": "code",
   "execution_count": 42,
   "metadata": {
    "collapsed": true
   },
   "outputs": [],
   "source": [
    "#生成并保存近一个月的用户通话数据\n",
    "df_30=cal01[(cal01.date + timedelta(days=30) > cal01.last_decision_tm) &  (cal01.date<cal01.last_decision_tm) ].reset_index(drop=True)"
   ]
  },
  {
   "cell_type": "code",
   "execution_count": 44,
   "metadata": {
    "collapsed": true
   },
   "outputs": [],
   "source": [
    "df_30.to_csv('df_30.csv', header = True, index=False, encoding=\"utf-8\")"
   ]
  },
  {
   "cell_type": "code",
   "execution_count": 45,
   "metadata": {},
   "outputs": [
    {
     "data": {
      "text/plain": [
       "(288276, 2)"
      ]
     },
     "execution_count": 45,
     "metadata": {},
     "output_type": "execute_result"
    }
   ],
   "source": [
    "#生成用户ugid和通讯录的对应关系表的数据准备\n",
    "con = con01\n",
    "con['phone'] = con['phone'].replace(np.nan,'-1').astype('str')\n",
    "con['phone'] = con['phone'].replace(np.inf,'-1').astype('str')\n",
    "con['phone'] = con['phone'].replace('null','-1').astype('str')\n",
    "con.shape"
   ]
  },
  {
   "cell_type": "code",
   "execution_count": 46,
   "metadata": {},
   "outputs": [
    {
     "data": {
      "text/plain": [
       "(286506, 2)"
      ]
     },
     "execution_count": 46,
     "metadata": {},
     "output_type": "execute_result"
    }
   ],
   "source": [
    "con = con[con['phone'] != '-1']\n",
    "con.shape"
   ]
  },
  {
   "cell_type": "code",
   "execution_count": 47,
   "metadata": {
    "collapsed": true
   },
   "outputs": [],
   "source": [
    "con01 = con"
   ]
  },
  {
   "cell_type": "code",
   "execution_count": 48,
   "metadata": {
    "collapsed": true
   },
   "outputs": [],
   "source": [
    "def contacts(x):\n",
    "    data = con01[con01['ugid'] == x]\n",
    "    thelist = data['phone'].tolist()\n",
    "    return(thelist)"
   ]
  },
  {
   "cell_type": "code",
   "execution_count": 49,
   "metadata": {
    "collapsed": true
   },
   "outputs": [],
   "source": [
    "#生成并保存用户ugid和通讯录的对应关系表\n",
    "df_contacts = feature01\n",
    "df_contacts['contacts'] = df_contacts.ugid.apply(lambda x:contacts(x))\n",
    "df_contacts.to_csv('df_contacts_201701_201705.csv', header = True, index=False)"
   ]
  },
  {
   "cell_type": "markdown",
   "metadata": {
    "collapsed": true
   },
   "source": [
    "df_contacts = pd.read_csv('df_contacts_201701_201705.csv')"
   ]
  },
  {
   "cell_type": "code",
   "execution_count": 51,
   "metadata": {
    "collapsed": true
   },
   "outputs": [],
   "source": [
    "df_contacts = df_contacts[['ugid', 'contacts']]"
   ]
  },
  {
   "cell_type": "code",
   "execution_count": 53,
   "metadata": {
    "collapsed": true,
    "scrolled": true
   },
   "outputs": [],
   "source": [
    "#定义基于每个ugid中每个number的统计特征（主要是为了减小统计量，针对每行统计工作量太大，\n",
    "#针对每个ugid中的每个number进行合并统计后能极大的减小统计工作量）\n",
    "def ugid_number_feature(df,days):\n",
    "    df_in = df[df['types'] == 1]                           #被叫\n",
    "    df_out = df[df['types'] == 2]                           #主叫\n",
    "    df_other = df[df['types'] == 3]                           #其他\n",
    "    if days == 30:\n",
    "        callcnt_agg_ctct = df.groupby(['ugid','number']).duration.count().reset_index()     #通话总次数\n",
    "        callcnt_agg_ctct.columns = ['ugid', 'number', 'last1m_callcnt_agg_ctct']\n",
    "        callcnt_agg_ctct_in = df_in.groupby(['ugid','number']).duration.count().reset_index()     #通话总次数-被叫\n",
    "        callcnt_agg_ctct_in.columns = ['ugid', 'number', 'last1m_callcnt_agg_ctct_in']\n",
    "        callcnt_agg_ctct_out = df_out.groupby(['ugid','number']).duration.count().reset_index()     #通话总次数-被叫\n",
    "        callcnt_agg_ctct_out.columns = ['ugid', 'number', 'last1m_callcnt_agg_ctct_out']\n",
    "        callcnt_agg_ctct_other = df_other.groupby(['ugid','number']).duration.count().reset_index()     #通话总次数-被叫\n",
    "        callcnt_agg_ctct_other.columns = ['ugid', 'number', 'last1m_callcnt_agg_ctct_other']\n",
    "        \n",
    "        calltime_agg_ctct = df.groupby(['ugid','number']).duration.sum().reset_index()     #通话总时长\n",
    "        calltime_agg_ctct.columns = ['ugid', 'number', 'last1m_calltime_agg_ctct']\n",
    "        calltime_agg_ctct_in = df_in.groupby(['ugid','number']).duration.sum().reset_index()     #通话总时长-被叫\n",
    "        calltime_agg_ctct_in.columns = ['ugid', 'number', 'last1m_calltime_agg_ctct_in']\n",
    "        calltime_agg_ctct_out = df_out.groupby(['ugid','number']).duration.sum().reset_index()     #通话总时长-被叫\n",
    "        calltime_agg_ctct_out.columns = ['ugid', 'number', 'last1m_calltime_agg_ctct_out']\n",
    "        calltime_agg_ctct_other = df_other.groupby(['ugid','number']).duration.sum().reset_index()     #通话总时长-被叫\n",
    "        calltime_agg_ctct_other.columns = ['ugid', 'number', 'last1m_calltime_agg_ctct_other']\n",
    "        \n",
    "        \n",
    "    elif days == 60:\n",
    "        callcnt_agg_ctct = df.groupby(['ugid','number']).duration.count().reset_index()     #通话总次数\n",
    "        callcnt_agg_ctct.columns = ['ugid', 'number', 'last2m_callcnt_agg_ctct']\n",
    "        callcnt_agg_ctct_in = df_in.groupby(['ugid','number']).duration.count().reset_index()     #通话总次数-被叫\n",
    "        callcnt_agg_ctct_in.columns = ['ugid', 'number', 'last2m_callcnt_agg_ctct_in']\n",
    "        callcnt_agg_ctct_out = df_out.groupby(['ugid','number']).duration.count().reset_index()     #通话总次数-被叫\n",
    "        callcnt_agg_ctct_out.columns = ['ugid', 'number', 'last2m_callcnt_agg_ctct_out']\n",
    "        callcnt_agg_ctct_other = df_other.groupby(['ugid','number']).duration.count().reset_index()     #通话总次数-被叫\n",
    "        callcnt_agg_ctct_other.columns = ['ugid', 'number', 'last2m_callcnt_agg_ctct_other']\n",
    "        \n",
    "        calltime_agg_ctct = df.groupby(['ugid','number']).duration.sum().reset_index()     #通话总时长\n",
    "        calltime_agg_ctct.columns = ['ugid', 'number', 'last2m_calltime_agg_ctct']\n",
    "        calltime_agg_ctct_in = df_in.groupby(['ugid','number']).duration.sum().reset_index()     #通话总时长-被叫\n",
    "        calltime_agg_ctct_in.columns = ['ugid', 'number', 'last2m_calltime_agg_ctct_in']\n",
    "        calltime_agg_ctct_out = df_out.groupby(['ugid','number']).duration.sum().reset_index()     #通话总时长-被叫\n",
    "        calltime_agg_ctct_out.columns = ['ugid', 'number', 'last2m_calltime_agg_ctct_out']\n",
    "        calltime_agg_ctct_other = df_other.groupby(['ugid','number']).duration.sum().reset_index()     #通话总时长-被叫\n",
    "        calltime_agg_ctct_other.columns = ['ugid', 'number', 'last2m_calltime_agg_ctct_other']\n",
    "        \n",
    "    df_in_ = df_in[['ugid','number']].drop_duplicates().reset_index()\n",
    "    df_in_ = df_in_[['ugid','number']]\n",
    "    df_in_['number_in'] = 1\n",
    "    df_out_ = df_out[['ugid','number']].drop_duplicates().reset_index()\n",
    "    df_out_ = df_out_[['ugid','number']]\n",
    "    df_out_['number_out'] = 1\n",
    "    df_other_ = df_other[['ugid','number']].drop_duplicates().reset_index()\n",
    "    df_other_ = df_other_[['ugid','number']]   \n",
    "    df_other_['number_other'] = 1\n",
    "        \n",
    "    df_ugid_number = callcnt_agg_ctct                                                          #df_60_ugid_number保存所有生成的特征\n",
    "    df_ugid_number = pd.merge(df_ugid_number, callcnt_agg_ctct_in, how = 'left', on = ['ugid', 'number'])\n",
    "    df_ugid_number = pd.merge(df_ugid_number, callcnt_agg_ctct_out, how = 'left', on = ['ugid', 'number'])\n",
    "    df_ugid_number = pd.merge(df_ugid_number, callcnt_agg_ctct_other, how = 'left', on = ['ugid', 'number'])\n",
    "    \n",
    "    df_ugid_number = pd.merge(df_ugid_number, calltime_agg_ctct, how = 'left', on = ['ugid', 'number'])\n",
    "    df_ugid_number = pd.merge(df_ugid_number, calltime_agg_ctct_in, how = 'left', on = ['ugid', 'number'])\n",
    "    df_ugid_number = pd.merge(df_ugid_number, calltime_agg_ctct_out, how = 'left', on = ['ugid', 'number'])\n",
    "    df_ugid_number = pd.merge(df_ugid_number, calltime_agg_ctct_other, how = 'left', on = ['ugid', 'number'])\n",
    "    \n",
    "    df_ugid_number = pd.merge(df_ugid_number, df_in_, how = 'left', on = ['ugid', 'number'])\n",
    "    df_ugid_number = pd.merge(df_ugid_number, df_out_, how = 'left', on = ['ugid', 'number'])\n",
    "    df_ugid_number = pd.merge(df_ugid_number, df_other_, how = 'left', on = ['ugid', 'number'])\n",
    "    \n",
    "    return(df_ugid_number)\n"
   ]
  },
  {
   "cell_type": "code",
   "execution_count": 54,
   "metadata": {
    "collapsed": true
   },
   "outputs": [],
   "source": [
    "#生成基于每个ugid中每个number的统计特征\n",
    "df_60_ugid_number = ugid_number_feature(df_60,60)\n",
    "df_60_ugid_number.to_csv('df_60_ugid_number_201701_201705.csv', header = True, index=False)"
   ]
  },
  {
   "cell_type": "code",
   "execution_count": 55,
   "metadata": {
    "collapsed": true
   },
   "outputs": [],
   "source": [
    "#生成基于每个ugid中每个number的统计特征\n",
    "df_30_ugid_number = ugid_number_feature(df_30,30)\n",
    "df_30_ugid_number.to_csv('df_30_ugid_number_201701_201705.csv', header = True, index=False)"
   ]
  },
  {
   "cell_type": "markdown",
   "metadata": {
    "collapsed": true
   },
   "source": [
    "#读取基于每个ugid中每个number的统计特征，即每个每个ugid中每个number的主叫次数，被叫次数，通话时长等特征\n",
    "df_60_ugid_number = pd.read_csv('/df_60_ugid_number.csv')\n",
    "df_30_ugid_number = pd.read_csv('df_30_ugid_number.csv')"
   ]
  },
  {
   "cell_type": "code",
   "execution_count": 59,
   "metadata": {
    "collapsed": true
   },
   "outputs": [],
   "source": [
    "#将基于每个ugid中每个number的统计特征和通讯录关联上，并标记每个number是否在通讯录中\n",
    "df_60_ugid_number_contacts = pd.merge(df_60_ugid_number, df_contacts, how = 'left', on = 'ugid')\n",
    "df_30_ugid_number_contacts = pd.merge(df_30_ugid_number, df_contacts, how = 'left', on = 'ugid')"
   ]
  },
  {
   "cell_type": "code",
   "execution_count": 60,
   "metadata": {
    "collapsed": true
   },
   "outputs": [],
   "source": [
    "#定义标记一个number是否在通讯录中的函数\n",
    "def in_address_book_1(row):\n",
    "    thelist = row['contacts']\n",
    "    if row['number'] in thelist:\n",
    "        if row['number'] != np.nan:\n",
    "            return(True)\n",
    "    else:\n",
    "        return(False)"
   ]
  },
  {
   "cell_type": "code",
   "execution_count": 61,
   "metadata": {
    "collapsed": true
   },
   "outputs": [],
   "source": [
    "#标记number是否在通讯录中，并保存\n",
    "df_60_ugid_number_contacts['in_address_book'] = df_60_ugid_number_contacts.apply(lambda row:in_address_book_1(row), axis=1)\n",
    "df_60_ugid_number_contacts.to_csv('df_60_ugid_number_contacts_201701_201705.csv', header = True, index=False)     #60天内的针对ugid和number统计的行为数据，标记了是否包含在通讯录中\n",
    "\n",
    "df_30_ugid_number_contacts['in_address_book'] = df_30_ugid_number_contacts.apply(lambda row:in_address_book_1(row), axis=1)\n",
    "df_30_ugid_number_contacts.to_csv('df_30_ugid_number_contacts_201701_201705.csv', header = True, index=False)     #30天内的针对ugid和number统计的行为数据，标记了是否包含在通讯录中"
   ]
  },
  {
   "cell_type": "markdown",
   "metadata": {
    "collapsed": true
   },
   "source": [
    "#读取保存的标记了ugid和number是否包含在通讯录中的数据\n",
    "df_60_ugid_number_contacts = pd.read_csv('df_60_ugid_number_contacts.csv')\n",
    "df_30_ugid_number_contacts = pd.read_csv('df_30_ugid_number_contacts.csv')"
   ]
  },
  {
   "cell_type": "code",
   "execution_count": 64,
   "metadata": {
    "collapsed": true
   },
   "outputs": [],
   "source": [
    "#定义统计topN（次数）与通讯录中电话号码的重合数，基于每个ugid统计的\n",
    "def isTopN_num(row,N,days):\n",
    "    if days == 30:\n",
    "        data = row.sort_index(axis=0, by='last1m_callcnt_agg_ctct', ascending=False).reset_index()\n",
    "    elif days == 60:\n",
    "        data = row.sort_index(axis=0, by='last2m_callcnt_agg_ctct', ascending=False).reset_index()\n",
    "    \n",
    "    thecontacts = data['contacts'][0]\n",
    "    \n",
    "    if data.shape[0] > N:\n",
    "        data = data[:N][:]\n",
    "    thelist = data['number'].tolist()    #从全部数据中抽出topN（次数）相关部分，并转换成list\n",
    "    num = 0\n",
    "    for item in thelist:\n",
    "        if item in thecontacts:\n",
    "            num = num + 1\n",
    "    return(num)"
   ]
  },
  {
   "cell_type": "code",
   "execution_count": 65,
   "metadata": {
    "collapsed": true
   },
   "outputs": [],
   "source": [
    "#定义统计topN（时长）与通讯录中电话号码的重合数，基于每个ugid统计的\n",
    "def isTopN_dur(row,N,days):\n",
    "    if days == 30:\n",
    "        data = row.sort_index(axis=0, by='last1m_calltime_agg_ctct', ascending=False).reset_index()\n",
    "    elif days == 60:\n",
    "        data = row.sort_index(axis=0, by='last2m_calltime_agg_ctct', ascending=False).reset_index()\n",
    "    \n",
    "    thecontacts = data['contacts'][0]\n",
    "    \n",
    "    if data.shape[0] > N:\n",
    "        data = data[:N][:]\n",
    "    thelist = data['number'].tolist()\n",
    "    num = 0\n",
    "    for item in thelist:\n",
    "        if item in thecontacts:\n",
    "            num = num + 1\n",
    "    return(num)"
   ]
  },
  {
   "cell_type": "code",
   "execution_count": 66,
   "metadata": {
    "collapsed": true
   },
   "outputs": [],
   "source": [
    "#生成统计时间内topN(次数、时长)与通讯录号码的重合数特征\n",
    "def getTopNBaseFeature(feature01,df,days):\n",
    "    ugid = df[['ugid']].drop_duplicates().reset_index()\n",
    "    ugid = ugid[['ugid']]\n",
    "    if days == 60:\n",
    "        #topN次数\n",
    "        ugid['last2m_callcnt_ctctnum_cln_top10'] = df.groupby('ugid').apply(lambda row:isTopN_num(row,10,60))\n",
    "        ugid['last2m_callcnt_ctctnum_cln_top20'] = df.groupby('ugid').apply(lambda row:isTopN_num(row,20,60))\n",
    "        ugid['last2m_callcnt_ctctnum_cln_top30'] = df.groupby('ugid').apply(lambda row:isTopN_num(row,30,60))\n",
    "        ugid['last2m_callcnt_ctctnum_cln_top40'] = df.groupby('ugid').apply(lambda row:isTopN_num(row,40,60))\n",
    "        ugid['last2m_callcnt_ctctnum_cln_top50'] = df.groupby('ugid').apply(lambda row:isTopN_num(row,50,60))\n",
    "        #topN时长\n",
    "        ugid['last2m_calltime_ctctnum_cln_top10'] = df.groupby('ugid').apply(lambda row:isTopN_dur(row,10,60))\n",
    "        ugid['last2m_calltime_ctctnum_cln_top20'] = df.groupby('ugid').apply(lambda row:isTopN_dur(row,20,60))\n",
    "        ugid['last2m_calltime_ctctnum_cln_top30'] = df.groupby('ugid').apply(lambda row:isTopN_dur(row,30,60))\n",
    "        ugid['last2m_calltime_ctctnum_cln_top40'] = df.groupby('ugid').apply(lambda row:isTopN_dur(row,40,60))\n",
    "        ugid['last2m_calltime_ctctnum_cln_top50'] = df.groupby('ugid').apply(lambda row:isTopN_dur(row,50,60))\n",
    "        feature01 = pd.merge(feature01,ugid,how = 'left', on = 'ugid')\n",
    "\n",
    "    elif days == 30:\n",
    "        #topN次数\n",
    "        ugid['last1m_callcnt_ctctnum_cln_top10'] = df.groupby('ugid').apply(lambda row:isTopN_num(row,10,30))\n",
    "        ugid['last1m_callcnt_ctctnum_cln_top20'] = df.groupby('ugid').apply(lambda row:isTopN_num(row,20,30))\n",
    "        ugid['last1m_callcnt_ctctnum_cln_top30'] = df.groupby('ugid').apply(lambda row:isTopN_num(row,30,30))\n",
    "        ugid['last1m_callcnt_ctctnum_cln_top40'] = df.groupby('ugid').apply(lambda row:isTopN_num(row,40,30))\n",
    "        ugid['last1m_callcnt_ctctnum_cln_top50'] = df.groupby('ugid').apply(lambda row:isTopN_num(row,50,30))\n",
    "        #topN时长\n",
    "        ugid['last1m_calltime_ctctnum_cln_top10'] = df.groupby('ugid').apply(lambda row:isTopN_dur(row,10,30))\n",
    "        ugid['last1m_calltime_ctctnum_cln_top20'] = df.groupby('ugid').apply(lambda row:isTopN_dur(row,20,30))\n",
    "        ugid['last1m_calltime_ctctnum_cln_top30'] = df.groupby('ugid').apply(lambda row:isTopN_dur(row,30,30))\n",
    "        ugid['last1m_calltime_ctctnum_cln_top40'] = df.groupby('ugid').apply(lambda row:isTopN_dur(row,40,30))\n",
    "        ugid['last1m_calltime_ctctnum_cln_top50'] = df.groupby('ugid').apply(lambda row:isTopN_dur(row,50,30))\n",
    "        feature01 = pd.merge(feature01,ugid,how = 'left', on = 'ugid')\n",
    "    \n",
    "    return(feature01)"
   ]
  },
  {
   "cell_type": "code",
   "execution_count": 70,
   "metadata": {
    "collapsed": true
   },
   "outputs": [],
   "source": [
    "def getContactsBaseFeature(feature01,df,days):\n",
    "    df = df[df['in_address_book'] == True]\n",
    "    ugid = df[['ugid']].drop_duplicates().reset_index()\n",
    "    ugid = ugid[['ugid']]\n",
    "    if days == 30:\n",
    "        #通话总次数\n",
    "        last1m_callcnt_agg_ctct = df.groupby('ugid').last1m_callcnt_agg_ctct.sum().reset_index()\n",
    "        last1m_callcnt_agg_ctct_in = df.groupby('ugid').last1m_callcnt_agg_ctct_in.sum().reset_index()\n",
    "        last1m_callcnt_agg_ctct_out = df.groupby('ugid').last1m_callcnt_agg_ctct_out.sum().reset_index()\n",
    "        last1m_callcnt_agg_ctct_other = df.groupby('ugid').last1m_callcnt_agg_ctct_other.sum().reset_index()\n",
    "        \n",
    "        #通话总时长\n",
    "        last1m_calltime_agg_ctct = df.groupby('ugid').last1m_calltime_agg_ctct.sum().reset_index()\n",
    "        last1m_calltime_agg_ctct_in = df.groupby('ugid').last1m_calltime_agg_ctct_in.sum().reset_index()\n",
    "        last1m_calltime_agg_ctct_out = df.groupby('ugid').last1m_calltime_agg_ctct_out.sum().reset_index()\n",
    "        last1m_calltime_agg_ctct_other = df.groupby('ugid').last1m_calltime_agg_ctct_other.sum().reset_index()\n",
    "        \n",
    "        #电话号码重合数\n",
    "        last1m_overlapcnt_ctctnum_agg = df.groupby('ugid').number.count().reset_index()\n",
    "        last1m_overlapcnt_ctctnum_agg.columns = ['ugid','last1m_overlapcnt_ctctnum_agg']\n",
    "        last1m_overlapcnt_ctctnum_in = df.groupby('ugid').number_in.sum().reset_index()\n",
    "        last1m_overlapcnt_ctctnum_in.columns = ['ugid','last1m_overlapcnt_ctctnum_in']\n",
    "        last1m_overlapcnt_ctctnum_out = df.groupby('ugid').number_out.sum().reset_index()\n",
    "        last1m_overlapcnt_ctctnum_out.columns = ['ugid','last1m_overlapcnt_ctctnum_out']\n",
    "        last1m_overlapcnt_ctctnum_other = df.groupby('ugid').number_other.sum().reset_index()\n",
    "        last1m_overlapcnt_ctctnum_other.columns = ['ugid','last1m_overlapcnt_ctctnum_other']\n",
    "        \n",
    "        \n",
    "        feature01 = pd.merge(feature01,last1m_callcnt_agg_ctct,how = 'left',on = 'ugid')\n",
    "        feature01 = pd.merge(feature01,last1m_callcnt_agg_ctct_in,how = 'left',on = 'ugid')\n",
    "        feature01 = pd.merge(feature01,last1m_callcnt_agg_ctct_out,how = 'left',on = 'ugid')\n",
    "        feature01 = pd.merge(feature01,last1m_callcnt_agg_ctct_other,how = 'left',on = 'ugid')\n",
    "        feature01 = pd.merge(feature01,last1m_calltime_agg_ctct,how = 'left',on = 'ugid')\n",
    "        feature01 = pd.merge(feature01,last1m_calltime_agg_ctct_in,how = 'left',on = 'ugid')\n",
    "        feature01 = pd.merge(feature01,last1m_calltime_agg_ctct_out,how = 'left',on = 'ugid')\n",
    "        feature01 = pd.merge(feature01,last1m_calltime_agg_ctct_other,how = 'left',on = 'ugid')\n",
    "        feature01 = pd.merge(feature01,last1m_overlapcnt_ctctnum_agg,how = 'left',on = 'ugid')\n",
    "        feature01 = pd.merge(feature01,last1m_overlapcnt_ctctnum_in,how = 'left',on = 'ugid')\n",
    "        feature01 = pd.merge(feature01,last1m_overlapcnt_ctctnum_out,how = 'left',on = 'ugid')\n",
    "        feature01 = pd.merge(feature01,last1m_overlapcnt_ctctnum_other,how = 'left',on = 'ugid')\n",
    "        \n",
    "        feature01['last1m_calltime_avg_ctct'] = feature01['last1m_calltime_agg_ctct'] / feature01['last1m_callcnt_agg_ctct']\n",
    "        feature01['last1m_calltime_avg_ctct_in'] = feature01['last1m_calltime_agg_ctct_in'] / feature01['last1m_callcnt_agg_ctct_in']\n",
    "        feature01['last1m_calltime_avg_ctct_out'] = feature01['last1m_calltime_agg_ctct_out'] / feature01['last1m_callcnt_agg_ctct_out']\n",
    "        feature01['last1m_calltime_avg_ctct_other'] = feature01['last1m_calltime_agg_ctct_other'] / feature01['last1m_callcnt_agg_ctct_other']\n",
    "        \n",
    "    elif  days == 60:\n",
    "        last2m_callcnt_agg_ctct = df.groupby('ugid').last2m_callcnt_agg_ctct.sum().reset_index()\n",
    "        last2m_callcnt_agg_ctct_in = df.groupby('ugid').last2m_callcnt_agg_ctct_in.sum().reset_index()\n",
    "        last2m_callcnt_agg_ctct_out = df.groupby('ugid').last2m_callcnt_agg_ctct_out.sum().reset_index()\n",
    "        last2m_callcnt_agg_ctct_other = df.groupby('ugid').last2m_callcnt_agg_ctct_other.sum().reset_index()\n",
    "        \n",
    "        last2m_calltime_agg_ctct = df.groupby('ugid').last2m_calltime_agg_ctct.sum().reset_index()\n",
    "        last2m_calltime_agg_ctct_in = df.groupby('ugid').last2m_calltime_agg_ctct_in.sum().reset_index()\n",
    "        last2m_calltime_agg_ctct_out = df.groupby('ugid').last2m_calltime_agg_ctct_out.sum().reset_index()\n",
    "        last2m_calltime_agg_ctct_other = df.groupby('ugid').last2m_calltime_agg_ctct_other.sum().reset_index()\n",
    "        \n",
    "        last2m_overlapcnt_ctctnum_agg = df.groupby('ugid').number.count().reset_index()\n",
    "        last2m_overlapcnt_ctctnum_agg.columns = ['ugid','last2m_overlapcnt_ctctnum_agg']\n",
    "        last2m_overlapcnt_ctctnum_in = df.groupby('ugid').number_in.sum().reset_index()\n",
    "        last2m_overlapcnt_ctctnum_in.columns = ['ugid','last2m_overlapcnt_ctctnum_in']\n",
    "        last2m_overlapcnt_ctctnum_out = df.groupby('ugid').number_out.sum().reset_index()\n",
    "        last2m_overlapcnt_ctctnum_out.columns = ['ugid','last2m_overlapcnt_ctctnum_out']\n",
    "        last2m_overlapcnt_ctctnum_other = df.groupby('ugid').number_other.sum().reset_index()\n",
    "        last2m_overlapcnt_ctctnum_other.columns = ['ugid','last2m_overlapcnt_ctctnum_other']\n",
    "       \n",
    "        \n",
    "        feature01 = pd.merge(feature01,last2m_callcnt_agg_ctct,how = 'left',on = 'ugid')\n",
    "        feature01 = pd.merge(feature01,last2m_callcnt_agg_ctct_in,how = 'left',on = 'ugid')\n",
    "        feature01 = pd.merge(feature01,last2m_callcnt_agg_ctct_out,how = 'left',on = 'ugid')\n",
    "        feature01 = pd.merge(feature01,last2m_callcnt_agg_ctct_other,how = 'left',on = 'ugid')\n",
    "        feature01 = pd.merge(feature01,last2m_calltime_agg_ctct,how = 'left',on = 'ugid')\n",
    "        feature01 = pd.merge(feature01,last2m_calltime_agg_ctct_in,how = 'left',on = 'ugid')\n",
    "        feature01 = pd.merge(feature01,last2m_calltime_agg_ctct_out,how = 'left',on = 'ugid')\n",
    "        feature01 = pd.merge(feature01,last2m_calltime_agg_ctct_other,how = 'left',on = 'ugid')\n",
    "        feature01 = pd.merge(feature01,last2m_overlapcnt_ctctnum_agg,how = 'left',on = 'ugid')\n",
    "        feature01 = pd.merge(feature01,last2m_overlapcnt_ctctnum_in,how = 'left',on = 'ugid')\n",
    "        feature01 = pd.merge(feature01,last2m_overlapcnt_ctctnum_out,how = 'left',on = 'ugid')\n",
    "        feature01 = pd.merge(feature01,last2m_overlapcnt_ctctnum_other,how = 'left',on = 'ugid')\n",
    "        feature01['last2m_calltime_avg_ctct'] = feature01['last2m_calltime_agg_ctct'] / feature01['last2m_callcnt_agg_ctct']\n",
    "        feature01['last2m_calltime_avg_ctct_in'] = feature01['last2m_calltime_agg_ctct_in'] / feature01['last2m_callcnt_agg_ctct_in']\n",
    "        feature01['last2m_calltime_avg_ctct_out'] = feature01['last2m_calltime_agg_ctct_out'] / feature01['last2m_callcnt_agg_ctct_out']\n",
    "        feature01['last2m_calltime_avg_ctct_other'] = feature01['last2m_calltime_agg_ctct_other'] / feature01['last2m_callcnt_agg_ctct_other']\n",
    "\n",
    "    return(feature01)"
   ]
  },
  {
   "cell_type": "code",
   "execution_count": 71,
   "metadata": {
    "collapsed": true
   },
   "outputs": [],
   "source": [
    "def getPeriodBetweenApplyCache(feature01,df,days):\n",
    "    '''\n",
    "    输入一个dataframe，计算统计时间内申请时间与通话记录数据爬取的时间差\n",
    "    '''\n",
    "    # 先排序\n",
    "    df.sort_values(by=['ugid','ctime'],ascending=[True,False],inplace=True)\n",
    "    \n",
    "    # 再去重\n",
    "    df = df.drop_duplicates(['ugid'])\n",
    "    \n",
    "    #保留必须的字段\n",
    "    df = df[['ugid','ctime','last_decision_tm']]\n",
    "    df['period_between_apply_cache-y'] = df['last_decision_tm'] - df['ctime']\n",
    "    df = df[['ugid','period_between_apply_cache-y']]\n",
    "    feature01 = pd.merge(feature01,df,how = 'left',on = 'ugid')\n",
    "    \n",
    "    return(feature01)"
   ]
  },
  {
   "cell_type": "code",
   "execution_count": null,
   "metadata": {
    "collapsed": true
   },
   "outputs": [],
   "source": []
  },
  {
   "cell_type": "markdown",
   "metadata": {
    "collapsed": true
   },
   "source": [
    "特征提取入口\n",
    "在时间窗口内用全部数据进行计算\n",
    "过去三十天访问注册页面次数（eg）\n",
    "在时间窗口内定义不同的时间组别：\n",
    "休息日和工作日\n",
    "过去三十天工作日访问注册页面次数（eg）\n",
    "过去三十天休息日访问注册页面次数（eg）\n",
    "每天的不同时间段\n",
    "过去三十天在凌晨0-4点访问注册页面次数（eg）timePeriod0-5\n",
    "过去三十天在12-16点访问注册页面次数（eg）"
   ]
  },
  {
   "cell_type": "code",
   "execution_count": 72,
   "metadata": {
    "collapsed": true
   },
   "outputs": [],
   "source": [
    "#针对不同的appid类型，对数据进行分类\n",
    "df=cal01[(cal01.date + timedelta(days=30) > cal01.last_decision_tm) &  (cal01.date<cal01.last_decision_tm) ].reset_index(drop=True)"
   ]
  },
  {
   "cell_type": "code",
   "execution_count": 73,
   "metadata": {
    "collapsed": true
   },
   "outputs": [],
   "source": [
    "test = df_30[['ugid','number','appid']]\n",
    "df_30_ugid_number_contacts =  pd.merge(df_30_ugid_number_contacts, test, how = 'left', on = ['ugid','number'])"
   ]
  },
  {
   "cell_type": "code",
   "execution_count": 74,
   "metadata": {
    "collapsed": true
   },
   "outputs": [],
   "source": [
    "#针对不同的appid类型，对数据进行分类\n",
    "df=cal01[(cal01.date+ timedelta(days=60) > cal01.last_decision_tm) &  (cal01.date<cal01.last_decision_tm) ].reset_index(drop=True)"
   ]
  },
  {
   "cell_type": "code",
   "execution_count": 75,
   "metadata": {
    "collapsed": true
   },
   "outputs": [],
   "source": [
    "test = df_60[['ugid','number','appid']]\n",
    "df_60_ugid_number_contacts =  pd.merge(df_60_ugid_number_contacts, test, how = 'left', on = ['ugid','number'])"
   ]
  },
  {
   "cell_type": "code",
   "execution_count": 76,
   "metadata": {},
   "outputs": [
    {
     "name": "stderr",
     "output_type": "stream",
     "text": [
      "/opt/anaconda3/lib/python3.6/site-packages/ipykernel_launcher.py:4: FutureWarning: by argument to sort_index is deprecated, pls use .sort_values(by=...)\n",
      "  after removing the cwd from sys.path.\n"
     ]
    }
   ],
   "source": [
    "#针对不同的appid类型，提取过去一个月的特征\n",
    "feature01 = df_30[['ugid']].drop_duplicates().reset_index()     #注意每次运行时都需要改变数据集\n",
    "feature01 = feature01[['ugid']]\n",
    "feature01 = getDayBasefeature(feature01,df_30,days=30)\n",
    "feature01 = getWeekBaseFeature(feature01,df_30,days=30)\n",
    "\n",
    "feature01 = getTopNBaseFeature(feature01,df_30_ugid_number_contacts,days=30)\n",
    "feature01 = getContactsBaseFeature(feature01,df_30_ugid_number_contacts,days=30)"
   ]
  },
  {
   "cell_type": "code",
   "execution_count": null,
   "metadata": {
    "collapsed": true
   },
   "outputs": [],
   "source": [
    "feature01_ = feature01"
   ]
  },
  {
   "cell_type": "code",
   "execution_count": 77,
   "metadata": {},
   "outputs": [
    {
     "name": "stderr",
     "output_type": "stream",
     "text": [
      "/opt/anaconda3/lib/python3.6/site-packages/ipykernel_launcher.py:6: FutureWarning: by argument to sort_index is deprecated, pls use .sort_values(by=...)\n",
      "  \n"
     ]
    }
   ],
   "source": [
    "#针对不同的appid类型，提取过去两个月的特征\n",
    "\n",
    "feature01 = getDayBasefeature(feature01,df_60,days=60)\n",
    "feature01 = getWeekBaseFeature(feature01,df_60,days=60)\n",
    "feature01 = getPeriodBetweenApplyCache(feature01,df_60,days=60)\n",
    "\n",
    "feature01 = getTopNBaseFeature(feature01,df_60_ugid_number_contacts,days=60)\n",
    "feature01 = getContactsBaseFeature(feature01,df_60_ugid_number_contacts,days=60)"
   ]
  },
  {
   "cell_type": "code",
   "execution_count": 79,
   "metadata": {},
   "outputs": [
    {
     "data": {
      "text/plain": [
       "(199, 120)"
      ]
     },
     "execution_count": 79,
     "metadata": {},
     "output_type": "execute_result"
    }
   ],
   "source": [
    "feature01.shape"
   ]
  },
  {
   "cell_type": "code",
   "execution_count": 80,
   "metadata": {
    "collapsed": true
   },
   "outputs": [],
   "source": [
    "feature01.to_csv('./data_last/20171123_feature_cal01_201706_201708.csv', header = True, index=False)"
   ]
  },
  {
   "cell_type": "code",
   "execution_count": null,
   "metadata": {
    "collapsed": true
   },
   "outputs": [],
   "source": []
  }
 ],
 "metadata": {
  "kernelspec": {
   "display_name": "Python 3",
   "language": "python",
   "name": "python3"
  },
  "language_info": {
   "codemirror_mode": {
    "name": "ipython",
    "version": 3
   },
   "file_extension": ".py",
   "mimetype": "text/x-python",
   "name": "python",
   "nbconvert_exporter": "python",
   "pygments_lexer": "ipython3",
   "version": "3.6.1"
  }
 },
 "nbformat": 4,
 "nbformat_minor": 1
}
